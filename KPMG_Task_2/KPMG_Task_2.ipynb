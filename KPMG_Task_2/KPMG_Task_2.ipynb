{
 "cells": [
  {
   "cell_type": "markdown",
   "id": "117d6db6",
   "metadata": {},
   "source": [
    "KPMG Virtual Internship\n",
    "For context, Sprocket Central Pty Ltd is a long-standing KPMG client whom specialises in high-quality bikes and accessible cycling accessories to riders. Their team is looking to boost business by analysing their existing customer dataset to determine customer trends and behaviour.\n",
    "\n",
    "Using the existing 3 datasets (Customer demographic, customer address and transactions) as a labelled dataset, please recommend which of these 1000 new customers should be targeted to drive the most value for the organisation."
   ]
  },
  {
   "cell_type": "markdown",
   "id": "bedd4fb2",
   "metadata": {},
   "source": [
    "Import important libraries which will be used in program."
   ]
  },
  {
   "cell_type": "code",
   "execution_count": 1,
   "id": "b301fc9b",
   "metadata": {},
   "outputs": [],
   "source": [
    "import pandas as pd\n",
    "import numpy as np\n",
    "import seaborn as sns\n",
    "import matplotlib.pyplot as plt\n",
    "import warnings \n",
    "import datetime"
   ]
  },
  {
   "cell_type": "markdown",
   "id": "df42c281",
   "metadata": {},
   "source": [
    "Importing datasets into pandas dataframe."
   ]
  },
  {
   "cell_type": "code",
   "execution_count": 2,
   "id": "07b883d1",
   "metadata": {},
   "outputs": [],
   "source": [
    "data = pd.ExcelFile(\"KPMG_VI_New_raw_data_update_final_data_cleaning.xlsx\")"
   ]
  },
  {
   "cell_type": "markdown",
   "id": "e1a87c6f",
   "metadata": {},
   "source": [
    "Reading each file separately"
   ]
  },
  {
   "cell_type": "code",
   "execution_count": 3,
   "id": "6116136d",
   "metadata": {},
   "outputs": [],
   "source": [
    "trans = pd.read_excel(data, 'Transactions')\n",
    "cus_demo = pd.read_excel(data, 'CustomerDemographic')\n",
    "cus_add = pd.read_excel(data, 'CustomerAddress')\n",
    "\n"
   ]
  },
  {
   "cell_type": "markdown",
   "id": "0369b9d9",
   "metadata": {},
   "source": [
    "Data Preprocessing"
   ]
  },
  {
   "cell_type": "raw",
   "id": "18cc9e4b",
   "metadata": {},
   "source": [
    "Add new Age _category column in Customer Demographic dataset"
   ]
  },
  {
   "cell_type": "code",
   "execution_count": 4,
   "id": "78209f78",
   "metadata": {},
   "outputs": [
    {
     "data": {
      "text/html": [
       "<div>\n",
       "<style scoped>\n",
       "    .dataframe tbody tr th:only-of-type {\n",
       "        vertical-align: middle;\n",
       "    }\n",
       "\n",
       "    .dataframe tbody tr th {\n",
       "        vertical-align: top;\n",
       "    }\n",
       "\n",
       "    .dataframe thead th {\n",
       "        text-align: right;\n",
       "    }\n",
       "</style>\n",
       "<table border=\"1\" class=\"dataframe\">\n",
       "  <thead>\n",
       "    <tr style=\"text-align: right;\">\n",
       "      <th></th>\n",
       "      <th>customer_id</th>\n",
       "      <th>first_name</th>\n",
       "      <th>last_name</th>\n",
       "      <th>gender</th>\n",
       "      <th>past_3_years_bike_related_purchases</th>\n",
       "      <th>DOB</th>\n",
       "      <th>Age</th>\n",
       "      <th>job_title</th>\n",
       "      <th>job_industry_category</th>\n",
       "      <th>wealth_segment</th>\n",
       "      <th>deceased_indicator</th>\n",
       "      <th>owns_car</th>\n",
       "      <th>tenure</th>\n",
       "      <th>Age_category(yrs.)</th>\n",
       "    </tr>\n",
       "  </thead>\n",
       "  <tbody>\n",
       "    <tr>\n",
       "      <th>0</th>\n",
       "      <td>1</td>\n",
       "      <td>Laraine</td>\n",
       "      <td>Medendorp</td>\n",
       "      <td>Female</td>\n",
       "      <td>93</td>\n",
       "      <td>1953-10-12</td>\n",
       "      <td>68.810195</td>\n",
       "      <td>Executive Secretary</td>\n",
       "      <td>Health</td>\n",
       "      <td>Mass Customer</td>\n",
       "      <td>N</td>\n",
       "      <td>Yes</td>\n",
       "      <td>11</td>\n",
       "      <td>Senior Citizen(61-100)</td>\n",
       "    </tr>\n",
       "    <tr>\n",
       "      <th>1</th>\n",
       "      <td>2</td>\n",
       "      <td>Eli</td>\n",
       "      <td>Bockman</td>\n",
       "      <td>Male</td>\n",
       "      <td>81</td>\n",
       "      <td>1980-12-16</td>\n",
       "      <td>41.612935</td>\n",
       "      <td>Administrative Officer</td>\n",
       "      <td>Financial Services</td>\n",
       "      <td>Mass Customer</td>\n",
       "      <td>N</td>\n",
       "      <td>Yes</td>\n",
       "      <td>16</td>\n",
       "      <td>Adult(25-49)</td>\n",
       "    </tr>\n",
       "    <tr>\n",
       "      <th>2</th>\n",
       "      <td>3</td>\n",
       "      <td>Arlin</td>\n",
       "      <td>Dearle</td>\n",
       "      <td>Male</td>\n",
       "      <td>61</td>\n",
       "      <td>1954-01-20</td>\n",
       "      <td>68.536222</td>\n",
       "      <td>Recruiting Manager</td>\n",
       "      <td>Property</td>\n",
       "      <td>Mass Customer</td>\n",
       "      <td>N</td>\n",
       "      <td>Yes</td>\n",
       "      <td>15</td>\n",
       "      <td>Senior Citizen(61-100)</td>\n",
       "    </tr>\n",
       "    <tr>\n",
       "      <th>3</th>\n",
       "      <td>9</td>\n",
       "      <td>Mala</td>\n",
       "      <td>Lind</td>\n",
       "      <td>Female</td>\n",
       "      <td>97</td>\n",
       "      <td>1973-03-10</td>\n",
       "      <td>49.388277</td>\n",
       "      <td>Business Systems Development Analyst</td>\n",
       "      <td>Argiculture</td>\n",
       "      <td>Affluent Customer</td>\n",
       "      <td>N</td>\n",
       "      <td>Yes</td>\n",
       "      <td>8</td>\n",
       "      <td>Senior Adult(50-60)</td>\n",
       "    </tr>\n",
       "    <tr>\n",
       "      <th>4</th>\n",
       "      <td>10</td>\n",
       "      <td>Fiorenze</td>\n",
       "      <td>Birdall</td>\n",
       "      <td>Female</td>\n",
       "      <td>49</td>\n",
       "      <td>1988-10-11</td>\n",
       "      <td>33.788277</td>\n",
       "      <td>Senior Quality Engineer</td>\n",
       "      <td>Financial Services</td>\n",
       "      <td>Mass Customer</td>\n",
       "      <td>N</td>\n",
       "      <td>Yes</td>\n",
       "      <td>20</td>\n",
       "      <td>Adult(25-49)</td>\n",
       "    </tr>\n",
       "  </tbody>\n",
       "</table>\n",
       "</div>"
      ],
      "text/plain": [
       "   customer_id first_name  last_name  gender  \\\n",
       "0            1    Laraine  Medendorp  Female   \n",
       "1            2        Eli    Bockman    Male   \n",
       "2            3      Arlin     Dearle    Male   \n",
       "3            9       Mala       Lind  Female   \n",
       "4           10   Fiorenze    Birdall  Female   \n",
       "\n",
       "   past_3_years_bike_related_purchases        DOB        Age  \\\n",
       "0                                   93 1953-10-12  68.810195   \n",
       "1                                   81 1980-12-16  41.612935   \n",
       "2                                   61 1954-01-20  68.536222   \n",
       "3                                   97 1973-03-10  49.388277   \n",
       "4                                   49 1988-10-11  33.788277   \n",
       "\n",
       "                              job_title job_industry_category  \\\n",
       "0                   Executive Secretary                Health   \n",
       "1                Administrative Officer    Financial Services   \n",
       "2                    Recruiting Manager              Property   \n",
       "3  Business Systems Development Analyst           Argiculture   \n",
       "4               Senior Quality Engineer    Financial Services   \n",
       "\n",
       "      wealth_segment deceased_indicator owns_car  tenure  \\\n",
       "0      Mass Customer                  N      Yes      11   \n",
       "1      Mass Customer                  N      Yes      16   \n",
       "2      Mass Customer                  N      Yes      15   \n",
       "3  Affluent Customer                  N      Yes       8   \n",
       "4      Mass Customer                  N      Yes      20   \n",
       "\n",
       "       Age_category(yrs.)  \n",
       "0  Senior Citizen(61-100)  \n",
       "1            Adult(25-49)  \n",
       "2  Senior Citizen(61-100)  \n",
       "3     Senior Adult(50-60)  \n",
       "4            Adult(25-49)  "
      ]
     },
     "execution_count": 4,
     "metadata": {},
     "output_type": "execute_result"
    }
   ],
   "source": [
    "cus_demo.loc[cus_demo['Age'] < 100, 'Age_category(yrs.)'] = 'Senior Citizen(61-100)'\n",
    "cus_demo.loc[cus_demo['Age'] < 60, 'Age_category(yrs.)'] = 'Senior Adult(50-60)'\n",
    "cus_demo.loc[cus_demo['Age'] < 49, 'Age_category(yrs.)'] = 'Adult(25-49)'\n",
    "cus_demo.loc[cus_demo['Age'] < 24, 'Age_category(yrs.)'] = 'Youth(<24)'\n",
    "\n",
    "cus_demo.head()"
   ]
  },
  {
   "cell_type": "raw",
   "id": "c74427e9",
   "metadata": {},
   "source": [
    "Change datatype of Customer Demographic column to numeric."
   ]
  },
  {
   "cell_type": "code",
   "execution_count": 5,
   "id": "17bf2f68",
   "metadata": {},
   "outputs": [
    {
     "data": {
      "text/plain": [
       "(2779, 14)"
      ]
     },
     "execution_count": 5,
     "metadata": {},
     "output_type": "execute_result"
    }
   ],
   "source": [
    "cus_demo[\"Age\"] = pd.to_numeric(cus_demo[\"Age\"])    \n",
    "cus_demo[\"tenure\"] = pd.to_numeric(cus_demo[\"tenure\"])    \n",
    "cus_demo[\"past_3_years_bike_related_purchases\"] = pd.to_numeric(cus_demo[\"past_3_years_bike_related_purchases\"])  \n",
    "cus_demo.shape\n"
   ]
  },
  {
   "cell_type": "code",
   "execution_count": 6,
   "id": "48f93b62",
   "metadata": {},
   "outputs": [
    {
     "data": {
      "text/plain": [
       "customer_id                            0\n",
       "first_name                             0\n",
       "last_name                              0\n",
       "gender                                 0\n",
       "past_3_years_bike_related_purchases    0\n",
       "DOB                                    0\n",
       "Age                                    0\n",
       "job_title                              0\n",
       "job_industry_category                  0\n",
       "wealth_segment                         0\n",
       "deceased_indicator                     0\n",
       "owns_car                               0\n",
       "tenure                                 0\n",
       "Age_category(yrs.)                     0\n",
       "dtype: int64"
      ]
     },
     "execution_count": 6,
     "metadata": {},
     "output_type": "execute_result"
    }
   ],
   "source": [
    "## CAlculate total number of null/missing values in customer deomgraphic dataframe.\n",
    "cus_demo.isnull().sum()"
   ]
  },
  {
   "cell_type": "raw",
   "id": "1f3ff4d3",
   "metadata": {},
   "source": [
    "Check total number of customers in customer demographic data set."
   ]
  },
  {
   "cell_type": "code",
   "execution_count": 7,
   "id": "41f56c6a",
   "metadata": {},
   "outputs": [
    {
     "data": {
      "text/plain": [
       "1       1\n",
       "2612    1\n",
       "2604    1\n",
       "2605    1\n",
       "2606    1\n",
       "       ..\n",
       "1306    1\n",
       "1307    1\n",
       "1310    1\n",
       "1311    1\n",
       "3997    1\n",
       "Name: customer_id, Length: 2779, dtype: int64"
      ]
     },
     "execution_count": 7,
     "metadata": {},
     "output_type": "execute_result"
    }
   ],
   "source": [
    "cus_demo['customer_id'].value_counts()"
   ]
  },
  {
   "cell_type": "raw",
   "id": "d231a398",
   "metadata": {},
   "source": [
    "Remove null values of job industry category from customer demographic dataframe"
   ]
  },
  {
   "cell_type": "code",
   "execution_count": 8,
   "id": "b8c1dbde",
   "metadata": {},
   "outputs": [
    {
     "data": {
      "text/plain": [
       "(2779, 14)"
      ]
     },
     "execution_count": 8,
     "metadata": {},
     "output_type": "execute_result"
    }
   ],
   "source": [
    "cus_demo = cus_demo.dropna(subset = ['job_industry_category'], how ='all')\n",
    "\n",
    "## Check shape of dataframe\n",
    "cus_demo.shape"
   ]
  },
  {
   "cell_type": "code",
   "execution_count": 9,
   "id": "253838fd",
   "metadata": {},
   "outputs": [
    {
     "data": {
      "text/plain": [
       "1       1\n",
       "2612    1\n",
       "2604    1\n",
       "2605    1\n",
       "2606    1\n",
       "       ..\n",
       "1306    1\n",
       "1307    1\n",
       "1310    1\n",
       "1311    1\n",
       "3997    1\n",
       "Name: customer_id, Length: 2779, dtype: int64"
      ]
     },
     "execution_count": 9,
     "metadata": {},
     "output_type": "execute_result"
    }
   ],
   "source": [
    "## Check total number of customers after removing null values in job category coulmn in cus_demo dataframe.\n",
    "cus_demo['customer_id'].value_counts()"
   ]
  },
  {
   "cell_type": "code",
   "execution_count": 10,
   "id": "1fe9fb22",
   "metadata": {},
   "outputs": [
    {
     "data": {
      "text/plain": [
       "(19445, 13)"
      ]
     },
     "execution_count": 10,
     "metadata": {},
     "output_type": "execute_result"
    }
   ],
   "source": [
    "## Check shape of transaction  dataset.\n",
    "trans.shape"
   ]
  },
  {
   "cell_type": "code",
   "execution_count": 11,
   "id": "125b4b74",
   "metadata": {},
   "outputs": [
    {
     "data": {
      "text/plain": [
       "1068    14\n",
       "2476    14\n",
       "2183    14\n",
       "1302    13\n",
       "2912    13\n",
       "        ..\n",
       "3392     1\n",
       "2271     1\n",
       "2328     1\n",
       "1865     1\n",
       "3161     1\n",
       "Name: customer_id, Length: 3492, dtype: int64"
      ]
     },
     "execution_count": 11,
     "metadata": {},
     "output_type": "execute_result"
    }
   ],
   "source": [
    "## Check total number of customers in transaction dataset.\n",
    "trans['customer_id'].value_counts()"
   ]
  },
  {
   "cell_type": "code",
   "execution_count": 12,
   "id": "5b00527a",
   "metadata": {},
   "outputs": [
    {
     "data": {
      "text/plain": [
       "(3999, 6)"
      ]
     },
     "execution_count": 12,
     "metadata": {},
     "output_type": "execute_result"
    }
   ],
   "source": [
    "## Check shape of customer address dataset.\n",
    "cus_add.shape"
   ]
  },
  {
   "cell_type": "markdown",
   "id": "ef8faa70",
   "metadata": {},
   "source": [
    "Create new dataframe which is intersaction of transaction and cus_demo or cus_address."
   ]
  },
  {
   "cell_type": "code",
   "execution_count": 13,
   "id": "0a2cf730",
   "metadata": {},
   "outputs": [],
   "source": [
    "trans_cus = pd.merge(cus_demo, trans, on=\"customer_id\", how='inner')"
   ]
  },
  {
   "cell_type": "code",
   "execution_count": 14,
   "id": "ff32e65a",
   "metadata": {},
   "outputs": [
    {
     "data": {
      "text/plain": [
       "(13640, 26)"
      ]
     },
     "execution_count": 14,
     "metadata": {},
     "output_type": "execute_result"
    }
   ],
   "source": [
    "trans_cus.head(3)\n",
    "trans_cus.shape"
   ]
  },
  {
   "cell_type": "code",
   "execution_count": 15,
   "id": "ac41f6f5",
   "metadata": {},
   "outputs": [
    {
     "data": {
      "text/plain": [
       "1068    14\n",
       "2476    14\n",
       "2183    14\n",
       "1302    13\n",
       "2912    13\n",
       "        ..\n",
       "3392     1\n",
       "2271     1\n",
       "2328     1\n",
       "1865     1\n",
       "3161     1\n",
       "Name: customer_id, Length: 3492, dtype: int64"
      ]
     },
     "execution_count": 15,
     "metadata": {},
     "output_type": "execute_result"
    }
   ],
   "source": [
    "## Count total number of customers who have done transactions.\n",
    "trans['customer_id'].value_counts()"
   ]
  },
  {
   "cell_type": "code",
   "execution_count": 16,
   "id": "9b23a226",
   "metadata": {},
   "outputs": [],
   "source": [
    "## Create a intersaction dataframe of customer demographic with transaction and there address dataframe. \n",
    "combo_cus = pd.merge(trans_cus, cus_add, on='customer_id', how='inner')"
   ]
  },
  {
   "cell_type": "code",
   "execution_count": 17,
   "id": "d5ecfeb7",
   "metadata": {},
   "outputs": [
    {
     "data": {
      "text/plain": [
       "(13628, 31)"
      ]
     },
     "execution_count": 17,
     "metadata": {},
     "output_type": "execute_result"
    }
   ],
   "source": [
    "## Shape of intersaction dataframe.\n",
    "combo_cus.shape"
   ]
  },
  {
   "cell_type": "code",
   "execution_count": 18,
   "id": "e00dab9f",
   "metadata": {},
   "outputs": [
    {
     "data": {
      "text/plain": [
       "2476    14\n",
       "2183    14\n",
       "637     13\n",
       "1302    13\n",
       "2464    13\n",
       "        ..\n",
       "1544     1\n",
       "431      1\n",
       "3292     1\n",
       "1920     1\n",
       "1204     1\n",
       "Name: customer_id, Length: 2446, dtype: int64"
      ]
     },
     "execution_count": 18,
     "metadata": {},
     "output_type": "execute_result"
    }
   ],
   "source": [
    "combo_cus['customer_id'].value_counts()"
   ]
  },
  {
   "cell_type": "code",
   "execution_count": 19,
   "id": "3cdb6f38",
   "metadata": {},
   "outputs": [
    {
     "data": {
      "text/plain": [
       "Index(['customer_id', 'first_name', 'last_name', 'gender',\n",
       "       'past_3_years_bike_related_purchases', 'DOB', 'Age', 'job_title',\n",
       "       'job_industry_category', 'wealth_segment', 'deceased_indicator',\n",
       "       'owns_car', 'tenure', 'Age_category(yrs.)', 'transaction_id',\n",
       "       'product_id', 'transaction_date', 'online_order', 'order_status',\n",
       "       'brand', 'product_line', 'product_class', 'product_size', 'list_price',\n",
       "       'standard_cost', 'product_first_sold_date', 'address', 'postcode',\n",
       "       'state', 'country', 'property_valuation'],\n",
       "      dtype='object')"
      ]
     },
     "execution_count": 19,
     "metadata": {},
     "output_type": "execute_result"
    }
   ],
   "source": [
    "## Columns name of intersaction dataframe of three dataframe.\n",
    "combo_cus.columns"
   ]
  },
  {
   "cell_type": "code",
   "execution_count": 20,
   "id": "14982b3c",
   "metadata": {},
   "outputs": [
    {
     "name": "stdout",
     "output_type": "stream",
     "text": [
      "<class 'pandas.core.frame.DataFrame'>\n",
      "Int64Index: 13628 entries, 0 to 13627\n",
      "Data columns (total 31 columns):\n",
      " #   Column                               Non-Null Count  Dtype         \n",
      "---  ------                               --------------  -----         \n",
      " 0   customer_id                          13628 non-null  int64         \n",
      " 1   first_name                           13628 non-null  object        \n",
      " 2   last_name                            13628 non-null  object        \n",
      " 3   gender                               13628 non-null  object        \n",
      " 4   past_3_years_bike_related_purchases  13628 non-null  int64         \n",
      " 5   DOB                                  13628 non-null  datetime64[ns]\n",
      " 6   Age                                  13628 non-null  float64       \n",
      " 7   job_title                            13628 non-null  object        \n",
      " 8   job_industry_category                13628 non-null  object        \n",
      " 9   wealth_segment                       13628 non-null  object        \n",
      " 10  deceased_indicator                   13628 non-null  object        \n",
      " 11  owns_car                             13628 non-null  object        \n",
      " 12  tenure                               13628 non-null  int64         \n",
      " 13  Age_category(yrs.)                   13628 non-null  object        \n",
      " 14  transaction_id                       13628 non-null  int64         \n",
      " 15  product_id                           13628 non-null  int64         \n",
      " 16  transaction_date                     13628 non-null  datetime64[ns]\n",
      " 17  online_order                         13628 non-null  bool          \n",
      " 18  order_status                         13628 non-null  object        \n",
      " 19  brand                                13628 non-null  object        \n",
      " 20  product_line                         13628 non-null  object        \n",
      " 21  product_class                        13628 non-null  object        \n",
      " 22  product_size                         13628 non-null  object        \n",
      " 23  list_price                           13628 non-null  float64       \n",
      " 24  standard_cost                        13628 non-null  float64       \n",
      " 25  product_first_sold_date              13628 non-null  datetime64[ns]\n",
      " 26  address                              13628 non-null  object        \n",
      " 27  postcode                             13628 non-null  int64         \n",
      " 28  state                                13628 non-null  object        \n",
      " 29  country                              13628 non-null  object        \n",
      " 30  property_valuation                   13628 non-null  int64         \n",
      "dtypes: bool(1), datetime64[ns](3), float64(3), int64(7), object(17)\n",
      "memory usage: 3.2+ MB\n"
     ]
    }
   ],
   "source": [
    "combo_cus.info()"
   ]
  },
  {
   "cell_type": "code",
   "execution_count": 21,
   "id": "40ddd32b",
   "metadata": {},
   "outputs": [
    {
     "data": {
      "text/plain": [
       "0       2017-12-23\n",
       "1       2017-04-06\n",
       "2       2017-05-11\n",
       "3       2017-01-05\n",
       "4       2017-02-21\n",
       "           ...    \n",
       "13623   2017-03-07\n",
       "13624   2017-04-02\n",
       "13625   2017-11-08\n",
       "13626   2017-09-01\n",
       "13627   2017-09-12\n",
       "Name: transaction_date, Length: 13628, dtype: datetime64[ns]"
      ]
     },
     "execution_count": 21,
     "metadata": {},
     "output_type": "execute_result"
    }
   ],
   "source": [
    "combo_cus.transaction_date"
   ]
  },
  {
   "cell_type": "markdown",
   "id": "e4d51a55",
   "metadata": {},
   "source": [
    "Data Exploration & Visualization"
   ]
  },
  {
   "cell_type": "markdown",
   "id": "b2ca7085",
   "metadata": {},
   "source": [
    "Cutomer Address Dataframe"
   ]
  },
  {
   "cell_type": "markdown",
   "id": "ae9c61bb",
   "metadata": {},
   "source": [
    "Which states has more number of bike customers."
   ]
  },
  {
   "cell_type": "code",
   "execution_count": 22,
   "id": "0aaabd7f",
   "metadata": {},
   "outputs": [
    {
     "data": {
      "image/png": "[encoded data removed]",
      "text/plain": [
       "<Figure size 432x288 with 1 Axes>"
      ]
     },
     "metadata": {
      "needs_background": "light"
     },
     "output_type": "display_data"
    }
   ],
   "source": [
    "bar_graph1= plt.bar(cus_add.state.unique(), cus_add[\"state\"].value_counts())\n",
    "\n",
    "bar_graph1[0].set_color('#FF5F6D')\n",
    "bar_graph1[1].set_color('#19547b')\n",
    "bar_graph1[2].set_color('#6A82FB')\n",
    "\n",
    "plt.ylabel('Number of Customer', color='g')\n",
    "plt.xlabel('State', color='r')\n",
    "plt.title(\"Customer vs State\")\n",
    "plt.show()"
   ]
  },
  {
   "cell_type": "markdown",
   "id": "c68d6843",
   "metadata": {},
   "source": [
    "According to data, NSW people purchased more bikes and cycles. Sprocket Central Pty Ltd have more customer base in NSW and lesser in VIC. That means they still need to work on marketing to reach out their product to VIC."
   ]
  },
  {
   "cell_type": "markdown",
   "id": "06e87b14",
   "metadata": {},
   "source": [
    "Customer Demographic Dataframe"
   ]
  },
  {
   "cell_type": "markdown",
   "id": "8316b17e",
   "metadata": {},
   "source": [
    "Which gender purchases more bikes"
   ]
  },
  {
   "cell_type": "code",
   "execution_count": 23,
   "id": "3e7c4f22",
   "metadata": {},
   "outputs": [
    {
     "data": {
      "image/png": "[encoded data removed]",
      "text/plain": [
       "<Figure size 432x288 with 1 Axes>"
      ]
     },
     "metadata": {
      "needs_background": "light"
     },
     "output_type": "display_data"
    }
   ],
   "source": [
    "bar_graph2 = plt.bar(cus_demo.gender.unique(), cus_demo[\"gender\"].value_counts() )\n",
    "\n",
    "bar_graph2[0].set_color('#FF5F6D')\n",
    "bar_graph2[1].set_color('#19547b')\n",
    "\n",
    "plt.ylabel('Number of Customer', color ='g')\n",
    "plt.xlabel('Gender', color='r')\n",
    "plt.title(\"Customer vs Gender\")\n",
    "plt.show()"
   ]
  },
  {
   "cell_type": "markdown",
   "id": "d89f845c",
   "metadata": {},
   "source": [
    "Sprocket Central Pty Ltd company has slightly more female customers than male. But the difference is not so large."
   ]
  },
  {
   "cell_type": "markdown",
   "id": "1e7ab560",
   "metadata": {},
   "source": [
    "Customers of different age group"
   ]
  },
  {
   "cell_type": "code",
   "execution_count": 24,
   "id": "7b2e9803",
   "metadata": {},
   "outputs": [
    {
     "data": {
      "image/png": "[encoded data removed]",
      "text/plain": [
       "<Figure size 432x288 with 1 Axes>"
      ]
     },
     "metadata": {
      "needs_background": "light"
     },
     "output_type": "display_data"
    }
   ],
   "source": [
    "sns.countplot(x='Age_category(yrs.)', data= cus_demo, palette='hls')\n",
    "plt.xticks(rotation ='vertical')\n",
    "plt.show()"
   ]
  },
  {
   "cell_type": "markdown",
   "id": "b1787bd4",
   "metadata": {},
   "source": [
    "Exploring bike customers who owns car"
   ]
  },
  {
   "cell_type": "code",
   "execution_count": 25,
   "id": "14e0a647",
   "metadata": {},
   "outputs": [
    {
     "data": {
      "image/png": "[encoded data removed]",
      "text/plain": [
       "<Figure size 432x288 with 1 Axes>"
      ]
     },
     "metadata": {
      "needs_background": "light"
     },
     "output_type": "display_data"
    }
   ],
   "source": [
    "bar_graph3 = plt.bar(cus_demo.owns_car.unique(), cus_demo[\"owns_car\"].value_counts())\n",
    "\n",
    "bar_graph3[0].set_color('#00c3ff')\n",
    "bar_graph3[1].set_color('#f7797d')\n",
    "\n",
    "plt.ylabel('Customer who owns car?', color ='g')\n",
    "plt.xlabel('Yes / No', color='r')\n",
    "plt.show()"
   ]
  },
  {
   "cell_type": "markdown",
   "id": "5f7695b0",
   "metadata": {},
   "source": [
    "According to data, most of the customers who purchases bike and cycling accessories from Sprocket Central Pty Ltd have car. May be their work place is near to their house or they are helping in reducing greenhouse gas production. But there is negligible difference."
   ]
  },
  {
   "cell_type": "markdown",
   "id": "07419459",
   "metadata": {},
   "source": [
    "Which wealth segment purchases more bikes"
   ]
  },
  {
   "cell_type": "code",
   "execution_count": 26,
   "id": "683e1f35",
   "metadata": {},
   "outputs": [
    {
     "data": {
      "image/png": "[encoded data removed]",
      "text/plain": [
       "<Figure size 432x288 with 1 Axes>"
      ]
     },
     "metadata": {
      "needs_background": "light"
     },
     "output_type": "display_data"
    }
   ],
   "source": [
    "bar_graph4 = plt.bar(cus_demo.wealth_segment.unique(), cus_demo[\"wealth_segment\"].value_counts())\n",
    "\n",
    "bar_graph4[0].set_color('#FF5F9D')\n",
    "bar_graph4[1].set_color('#c471ed')\n",
    "bar_graph4[2].set_color('#2193b0')\n",
    "\n",
    "plt.ylabel('Number of customer', color='g')\n",
    "plt.xlabel('Wealth Segment', color='r')\n",
    "plt.title(\"No. of Customer vs Wealth Segment\")\n",
    "plt.show()"
   ]
  },
  {
   "cell_type": "markdown",
   "id": "2c48f4f7",
   "metadata": {},
   "source": [
    "A large number customers who purchased bikes and cycling accessories from Sprocket Central Pty Ltd belongs to \"Mass customer\" wealth segment category."
   ]
  },
  {
   "cell_type": "markdown",
   "id": "1dd36770",
   "metadata": {},
   "source": [
    "Which gender purchased more bikes in past 3 years"
   ]
  },
  {
   "cell_type": "code",
   "execution_count": 27,
   "id": "09733c13",
   "metadata": {},
   "outputs": [
    {
     "data": {
      "image/png": "[encoded data removed]",
      "text/plain": [
       "<Figure size 432x288 with 1 Axes>"
      ]
     },
     "metadata": {
      "needs_background": "light"
     },
     "output_type": "display_data"
    }
   ],
   "source": [
    "result = cus_demo.groupby(\"gender\").sum()\n",
    "bar_graph5 = plt.bar(cus_demo.gender.unique(), result[\"past_3_years_bike_related_purchases\"])\n",
    "\n",
    "bar_graph5[0].set_color('#FF5F6D')\n",
    "bar_graph5[1].set_color('#19547b')\n",
    "\n",
    "plt.ylabel('Past 3(yrs) bike related purchases', color='g')\n",
    "plt.xlabel('Gender', color='r')\n",
    "plt.title(\"Past 3(yrs) bike related purchase vs Gender\")\n",
    "plt.show()"
   ]
  },
  {
   "cell_type": "markdown",
   "id": "e71b5789",
   "metadata": {},
   "source": [
    "In past 3 years female purchased more bikes related accessories from Sprocket Central Pty Ltd."
   ]
  },
  {
   "cell_type": "markdown",
   "id": "c9b471ca",
   "metadata": {},
   "source": [
    "Customers belongs to which job industry"
   ]
  },
  {
   "cell_type": "code",
   "execution_count": 28,
   "id": "b4822121",
   "metadata": {},
   "outputs": [
    {
     "data": {
      "image/png": "[encoded data removed]",
      "text/plain": [
       "<Figure size 432x288 with 1 Axes>"
      ]
     },
     "metadata": {
      "needs_background": "light"
     },
     "output_type": "display_data"
    }
   ],
   "source": [
    "sns.countplot(x='job_industry_category', data= cus_demo, palette='hls')\n",
    "plt.xticks(rotation ='vertical')\n",
    "plt.show()"
   ]
  },
  {
   "cell_type": "markdown",
   "id": "7a54d0cf",
   "metadata": {},
   "source": [
    "Transactions Dataset"
   ]
  },
  {
   "cell_type": "markdown",
   "id": "b40c57a7",
   "metadata": {},
   "source": [
    "Which size of product is most selling and the does the cost of product increases sell"
   ]
  },
  {
   "cell_type": "code",
   "execution_count": 29,
   "id": "44632313",
   "metadata": {},
   "outputs": [
    {
     "data": {
      "image/png": "[encoded data removed]",
      "text/plain": [
       "<Figure size 432x288 with 2 Axes>"
      ]
     },
     "metadata": {
      "needs_background": "light"
     },
     "output_type": "display_data"
    }
   ],
   "source": [
    "results = trans.groupby(\"product_size\").sum()\n",
    "\n",
    "fig,ax1=plt.subplots()\n",
    "\n",
    "ax2 = ax1.twinx()\n",
    "ax1.bar(trans.product_size.unique(), trans[\"product_size\"].value_counts(), color = '#3fada8')\n",
    "ax2.plot(trans.product_size.unique(), results[\"standard_cost\"])\n",
    "\n",
    "ax1.set_xlabel('Product Size')\n",
    "ax1.set_ylabel('Number of Customer', color ='g')\n",
    "ax2.set_ylabel('Standard Cost ($)', color='b')\n",
    "plt.title(\"Number of Customer vs Product vs Standard Price ($)\")\n",
    "plt.show()"
   ]
  },
  {
   "cell_type": "markdown",
   "id": "9f21605c",
   "metadata": {},
   "source": [
    "Which brand is most selling brand."
   ]
  },
  {
   "cell_type": "code",
   "execution_count": 30,
   "id": "37d29a51",
   "metadata": {},
   "outputs": [
    {
     "data": {
      "image/png": "[encoded data removed]",
      "text/plain": [
       "<Figure size 432x288 with 1 Axes>"
      ]
     },
     "metadata": {
      "needs_background": "light"
     },
     "output_type": "display_data"
    }
   ],
   "source": [
    "plt.bar(trans.brand.unique(), trans[\"brand\"].value_counts(), color='#556270')\n",
    "\n",
    "plt.xticks(rotation = \"vertical\", size=10)\n",
    "plt.ylabel('Number of Customer', color='g')\n",
    "plt.xlabel('Brand')\n",
    "plt.title(\"No. of Customer vs Brand\")\n",
    "plt.show()"
   ]
  },
  {
   "cell_type": "markdown",
   "id": "7fe5d059",
   "metadata": {},
   "source": [
    "According to transactions dataframe, most selling brand of Sprocket Central Pty Ltd is Trek Bicycles and there is not much difference in other brands"
   ]
  },
  {
   "cell_type": "code",
   "execution_count": null,
   "id": "785a593a",
   "metadata": {},
   "outputs": [],
   "source": []
  }
 ],
 "metadata": {
  "kernelspec": {
   "display_name": "Python 3 (ipykernel)",
   "language": "python",
   "name": "python3"
  },
  "language_info": {
   "codemirror_mode": {
    "name": "ipython",
    "version": 3
   },
   "file_extension": ".py",
   "mimetype": "text/x-python",
   "name": "python",
   "nbconvert_exporter": "python",
   "pygments_lexer": "ipython3",
   "version": "3.9.12"
  }
 },
 "nbformat": 4,
 "nbformat_minor": 5
}
